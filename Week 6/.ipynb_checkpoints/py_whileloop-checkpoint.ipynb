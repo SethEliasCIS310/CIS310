{
 "cells": [
  {
   "cell_type": "markdown",
   "metadata": {},
   "source": [
    "# Seth Elias\n",
    "## Week 6 - 09/26/24\n",
    "### Python While loops"
   ]
  },
  {
   "cell_type": "markdown",
   "metadata": {},
   "source": [
    "**General format of python while loops:**\n",
    "<code>while test:\n",
    "    statements</code>"
   ]
  },
  {
   "cell_type": "code",
   "execution_count": 1,
   "metadata": {},
   "outputs": [
    {
     "name": "stdout",
     "output_type": "stream",
     "text": [
      "hello\n",
      "hello\n",
      "hello\n",
      "hello\n",
      "hello\n",
      "hello\n",
      "hello\n",
      "hello\n",
      "hello\n",
      "hello\n"
     ]
    }
   ],
   "source": [
    "count = 1\n",
    "\n",
    "while count <= 10:\n",
    "    print('hello')\n",
    "    count += 1"
   ]
  },
  {
   "cell_type": "code",
   "execution_count": 2,
   "metadata": {},
   "outputs": [
    {
     "name": "stdout",
     "output_type": "stream",
     "text": [
      "hello\n",
      "hello\n",
      "hello\n",
      "hello\n",
      "hello\n",
      "hello\n",
      "hello\n",
      "hello\n",
      "hello\n",
      "hello\n",
      "The value of count after the loops is 11\n"
     ]
    }
   ],
   "source": [
    "# else\n",
    "count = 1\n",
    "\n",
    "while count <= 10:\n",
    "    print('hello')\n",
    "    count += 1\n",
    "    \n",
    "print(f'The value of count after the loops is {count}')"
   ]
  },
  {
   "cell_type": "code",
   "execution_count": 3,
   "metadata": {},
   "outputs": [
    {
     "name": "stdout",
     "output_type": "stream",
     "text": [
      "hello\n",
      "hello\n",
      "hello\n",
      "hello\n",
      "hello\n",
      "hello\n",
      "hello\n",
      "hello\n",
      "hello\n",
      "hello\n",
      "The value of count after the loops is 11\n"
     ]
    }
   ],
   "source": [
    "count = 1\n",
    "\n",
    "while count <= 10:\n",
    "    print('hello')\n",
    "    count += 1\n",
    "else:\n",
    "    print(f'The value of count after the loops is {count}')"
   ]
  },
  {
   "cell_type": "code",
   "execution_count": 5,
   "metadata": {},
   "outputs": [
    {
     "name": "stdout",
     "output_type": "stream",
     "text": [
      "Now the sum of 0 and value of 1\n",
      "Now the sum of 1 and value of 2\n",
      "Now the sum of 3 and value of 3\n",
      "Now the sum of 6 and value of 4\n",
      "Now the sum of 10 and value of 5\n",
      "Now the sum of 15 and value of 6\n",
      "Now the sum of 21 and value of 7\n",
      "Now the sum of 28 and value of 8\n",
      "Now the sum of 36 and value of 9\n",
      "Now the sum of 45 and value of 10\n",
      "The sum is 55\n"
     ]
    }
   ],
   "source": [
    "count = 1\n",
    "sum = 0\n",
    "while count <= 10:\n",
    "    print(f'Now the sum of {sum} and value of {count}')\n",
    "    sum +=count\n",
    "    count +=1\n",
    "else:\n",
    "    print(f'The sum is {sum}')"
   ]
  },
  {
   "cell_type": "code",
   "execution_count": null,
   "metadata": {},
   "outputs": [],
   "source": []
  }
 ],
 "metadata": {
  "kernelspec": {
   "display_name": "Python 3.7 - default",
   "language": "python",
   "name": "py37_default"
  },
  "language_info": {
   "codemirror_mode": {
    "name": "ipython",
    "version": 3
   },
   "file_extension": ".py",
   "mimetype": "text/x-python",
   "name": "python",
   "nbconvert_exporter": "python",
   "pygments_lexer": "ipython3",
   "version": "3.7.7"
  }
 },
 "nbformat": 4,
 "nbformat_minor": 4
}
