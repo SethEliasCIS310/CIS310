{
 "cells": [
  {
   "cell_type": "markdown",
   "metadata": {},
   "source": [
    "# Instructions:\n",
    "\n",
    "1) Rename this .ipynb file with your first and last name\n",
    "\n",
    "2) Complete the exam info form\n",
    "\n",
    "3) Answer all the questions\n",
    "\n",
    "4) Upload this file into Canvas as your submisison file\n",
    "\n",
    "**Do not upload/push this file into your GitHub account**"
   ]
  },
  {
   "cell_type": "markdown",
   "metadata": {},
   "source": [
    "# Complete the file info form:\n",
    "\n",
    "Your Full Name: Seth ELias\n",
    "\n",
    "Your CSU ID: 836-077-579\n",
    "\n",
    "Date:10/17/24\n"
   ]
  },
  {
   "cell_type": "markdown",
   "metadata": {},
   "source": [
    "## Q1:\n",
    "\n",
    "(Submit for 3 points) Write a python code whose input is two integers. Output the first integer and subsequent increments of 5 as long as the value is less than or equal to the second integer.\n",
    "\n",
    "**Sample Input/Output:**: \n",
    "\n",
    "Ex: If the input is:\n",
    "\n",
    "num1 = -15\n",
    "\n",
    "num2 = 10\n",
    "\n",
    "the output is:\n",
    "\n",
    "-15 -10 -5 0 5 10 \n",
    "\n",
    "*Ex: If the second integer is less than the first as in:\n",
    "\n",
    "num1 = 20\n",
    "\n",
    "num2 = 5\n",
    "\n",
    "the output is:\n",
    "\n",
    "Second integer can't be less than the first.\n",
    "\n",
    "\n",
    "**Hint:**\n",
    "\n",
    "- Use the built input() function to receive input from the user\n",
    "- Use the for loop to print all nubers beween num1 and num2\n",
    "- Use the built in range() method inside to for loop with appropriate start, end, and step values\n",
    "- Use the if stament to check if num2 is greater than num1\n",
    "\n"
   ]
  },
  {
   "cell_type": "code",
   "execution_count": 43,
   "metadata": {},
   "outputs": [
    {
     "name": "stdout",
     "output_type": "stream",
     "text": [
      "15\n",
      "30\n",
      "15\n",
      "20\n",
      "25\n",
      "30\n"
     ]
    }
   ],
   "source": [
    "#Q1 Answer - Complete the following code\n",
    "\n",
    "#Input and output the value of num1 and num2\n",
    "\n",
    "# Use if-elsel statment to check that num2 < num1, if this true, output the appropriate message and stop\n",
    "# else, use for loop to output the first integer and subsequent increments of 5 as long as the value is less than or equal to the second integer\n",
    "# use the range() method to complete this task\n",
    "\n",
    "num1 = int(input())\n",
    "num2 = int(input())\n",
    "if num2 < num1:\n",
    "    print('Second integer cant be less than the first')\n",
    "print(num1)\n",
    "if num1 <= num2:\n",
    "    for i in range(num1,num2, 5):\n",
    "        num1 += 5\n",
    "        print(num1)\n"
   ]
  },
  {
   "cell_type": "markdown",
   "metadata": {},
   "source": [
    "## Q2:\n",
    "\n",
    "(Submit for 3 points) Prompt the user for an automobile service type, the display the user input and the cost of service.\n",
    "\n",
    "The program should support the following services (all integers):\n",
    "\n",
    "- Oil change - $35\n",
    "\n",
    "- Tire rotation -- $19 \n",
    "\n",
    "- Car wash -- $7\n",
    "\n",
    "If the user enters a service that is not listed above, then output the following error message:\n",
    "\n",
    "- Error: Requested service is not recognized\n",
    "\n",
    "**Sample Input/Output**\n",
    "\n",
    "Enter desired auto service:\n",
    "\n",
    "Oil change\n",
    "\n",
    "You entered: Oil change\n",
    "\n",
    "Cost of oil change: $35\n",
    "\n",
    "**Hint:**\n",
    "\n",
    "- Use the if stament to identify the auto service type based on the service name\n",
    "\n",
    "- Use the built input() function to receive input from the user\n"
   ]
  },
  {
   "cell_type": "code",
   "execution_count": 2,
   "metadata": {},
   "outputs": [],
   "source": [
    "#Q2 Answer - Complete the following code\n",
    "\n",
    "# Dictionary of service type and cost per service\n",
    "service_cost = {\n",
    "   'Oil change': 35,\n",
    "   'Tire rotation': 19,\n",
    "   'Car wash': 7\n",
    "}\n",
    "\n",
    "# Input and output the the required service choice - service_choice\n",
    "user_input = input('Enter desired auto service')\n",
    "if user_input != 'Oil change' or user_input != 'Tire rotation' or user_input != ' Car wash':\n",
    "    print('Error: Requested service is not available')\n",
    "# Compute and output the service cost using the provided dictionary using if statement\n",
    "if user_input == 'Oil change':\n",
    "    print(f'You entered {user_input}'')\n",
    "    cost = service_cost['Oil change']\n",
    "    print(f'Cost of {user_input}: ${cost}')\n",
    "elif user_input == 'Tire rotation':\n",
    "    cost = service_cost['Tire rotation']\n",
    "    print(f'Cost of {user_input}: ${cost}')\n",
    "elif user_input == 'Car wash':\n",
    "    cost = service_cost['Car wash']\n",
    "    print(f'Cost of {user_input}: ${cost}')\n"
   ]
  },
  {
   "cell_type": "markdown",
   "metadata": {},
   "source": [
    "## Q3\n",
    "\n",
    "(Submit for 3 points). Write a Python function that accepts a string and calculates the number of upper case letters and lower case letters.\n",
    "\n",
    "\n",
    "Sample String : 'Hello Mr. Rogers, how are you this fine Tuesday?'\n",
    "\n",
    "Expected Output :\n",
    "\n",
    "No. of Upper case characters : 4\n",
    "\n",
    "No. of Lower case Characters : 33\n",
    "\n",
    "**Hint:**\n",
    "\n",
    "- Use Character built-in Functions, isupper() and islower(), to test whether a character is uppercase or lowercase!\n"
   ]
  },
  {
   "cell_type": "code",
   "execution_count": 36,
   "metadata": {},
   "outputs": [
    {
     "name": "stdout",
     "output_type": "stream",
     "text": [
      "No. of Upper case characters: 15\n",
      "No. of Lower case characters: 33\n"
     ]
    }
   ],
   "source": [
    "#Q3 Answer - Complete the following code\n",
    "def up_low(s):\n",
    "    num_ups = 0\n",
    "    num_lows = 0\n",
    "    for letter in s:\n",
    "        if letter == letter.upper():\n",
    "            num_ups += 1\n",
    "        elif letter == letter.lower():\n",
    "            num_lows += 1\n",
    "    print(f'No. of Upper case characters: {num_ups}')\n",
    "    print(f'No. of Lower case characters: {num_lows}')\n",
    "    \n",
    "\n",
    "\n",
    "# call the function to test with the following data: \n",
    "s = 'Hello Mr. Rogers, how are you this fine Tuesday?'\n",
    "up_low(s)"
   ]
  },
  {
   "cell_type": "markdown",
   "metadata": {},
   "source": [
    "## Q4\n",
    "\n",
    "(Submit for 3 points) Assume that we have a list of tuples for people information, (First Name, Last Name, Month and Day of birth) as follows:\n",
    "\n",
    "<code> people = [(\"Michele\", \"Vallisneri\", \"July 15\"),\n",
    "          (\"Albert\", \"Einstein\", \"March 14\"),\n",
    "          (\"John\", \"Lennon\", \"October 9\"),\n",
    "          (\"Jocelyn\", \"Bell Burnell\", \"July 15\")] <code/>\n",
    "    \n",
    "\n",
    "\n",
    "Use list comperhension to creat a new list of dictionaries for each tuple, such as:\n",
    "\n",
    "\n",
    "<code>  [{'fName': 'Michele', 'lName': 'Vallisneri', 'mdBirth': 'July 15'},\n",
    "         {'fName': 'Albert', 'lName': 'Einstein', 'mdBirth': 'March 14'},\n",
    "         {'fName': 'John', 'lName': 'Lennon', 'mdBirth': 'October 9'},\n",
    "         {'fName': 'Jocelyn', 'lName': 'Bell Burnell', 'mdBirth': 'July 15'}] <code/>.\n",
    "    \n",
    "    \n",
    "**Hint:**\n",
    "    \n",
    "- Use the list comprehension expression to answer this question: <code> new_list = [expression for member in iterable<code/>\n",
    "- Note that the keys in the dictionary are {'Key1':Value1, 'Key2':Values, 'Key3':Value3}, and values are filled from the tuples in the list\n",
    " "
   ]
  },
  {
   "cell_type": "code",
   "execution_count": 44,
   "metadata": {},
   "outputs": [
    {
     "ename": "SyntaxError",
     "evalue": "invalid syntax (<ipython-input-44-33b53b92fb68>, line 6)",
     "output_type": "error",
     "traceback": [
      "\u001b[1;36m  File \u001b[1;32m\"<ipython-input-44-33b53b92fb68>\"\u001b[1;36m, line \u001b[1;32m6\u001b[0m\n\u001b[1;33m    new_dict = dict(['fName': p[0], 'lName': p[1], 'mdBirth': p[2] for p in people])\u001b[0m\n\u001b[1;37m                            ^\u001b[0m\n\u001b[1;31mSyntaxError\u001b[0m\u001b[1;31m:\u001b[0m invalid syntax\n"
     ]
    }
   ],
   "source": [
    "#Q4 Answer - Complete the following code\n",
    "people = [(\"Michele\", \"Vallisneri\", \"July 15\"),\n",
    "          (\"Albert\", \"Einstein\", \"March 14\"),\n",
    "          (\"John\", \"Lennon\", \"October 9\"),\n",
    "          (\"Jocelyn\", \"Bell Burnell\", \"July 15\")]\n",
    "new_dict = dict(['fName': p[0], 'lName': p[1], 'mdBirth': p[2] for p in people])\n",
    "\n",
    "\n",
    "#check your answer"
   ]
  },
  {
   "cell_type": "markdown",
   "metadata": {},
   "source": [
    "## Q5\n",
    "\n",
    "(Submit for 3 points) Assume that we have the following list of dictionaries for the book information:\n",
    "\n",
    "<code> \n",
    "    books = [ {\"Title\":\"Angels and Demons\", \"Author\":\"Dan Brown\", \"Price\":500},\n",
    "              {\"Title\":\"Gone Girl\", \"Author\":\"Gillian Flynn\", \"Price\":730},\n",
    "              {\"Title\":\"The Silent Patient\", \"Author\":\"Alex Michaelidis\", \"Price\":945},\n",
    "              {\"Title\":\"Before I Go To Sleep\", \"Author\":\"S.J Watson\", \"Price\":400} ] <code/>\n",
    "    \n",
    "    \n",
    "Use **lambda** and higher order function **filter()** to generate a new list with the books that are greater than 500,  such as  \n",
    "\n",
    "\n",
    "<code>new_books = [ {'Title': 'Gone Girl', 'Author': 'Gillian Flynn', 'Price': 730},\n",
    "        {'Title': 'The Silent Patient', 'Author': 'Alex Michaelidis', 'Price': 945}] <code/>\n",
    "    \n",
    "\n",
    "**Hint:**\n",
    "\n",
    "- Use the filter() function with lambda inside it to create the list of the new_books: <code > filter(lambda arguments : expression , books) <code/>"
   ]
  },
  {
   "cell_type": "code",
   "execution_count": 22,
   "metadata": {},
   "outputs": [],
   "source": [
    "#Q5 Answer - Complete the following code\n",
    "books = [ {\"Title\":\"Angels and Demons\", \"Author\":\"Dan Brown\", \"Price\":500},\n",
    "              {\"Title\":\"Gone Girl\", \"Author\":\"Gillian Flynn\", \"Price\":730},\n",
    "              {\"Title\":\"The Silent Patient\", \"Author\":\"Alex Michaelidis\", \"Price\":945},\n",
    "              {\"Title\":\"Before I Go To Sleep\", \"Author\":\"S.J Watson\", \"Price\":400} ] \n",
    "new_books = list(filter(lambda books: books['Price'] > 500, books))\n",
    "\n",
    "\n",
    "#check your answer"
   ]
  },
  {
   "cell_type": "code",
   "execution_count": 23,
   "metadata": {},
   "outputs": [
    {
     "data": {
      "text/plain": [
       "[{'Title': 'Gone Girl', 'Author': 'Gillian Flynn', 'Price': 730},\n",
       " {'Title': 'The Silent Patient', 'Author': 'Alex Michaelidis', 'Price': 945}]"
      ]
     },
     "execution_count": 23,
     "metadata": {},
     "output_type": "execute_result"
    }
   ],
   "source": [
    "new_books"
   ]
  },
  {
   "cell_type": "code",
   "execution_count": null,
   "metadata": {},
   "outputs": [],
   "source": []
  }
 ],
 "metadata": {
  "kernelspec": {
   "display_name": "Python 3",
   "language": "python",
   "name": "python3"
  },
  "language_info": {
   "codemirror_mode": {
    "name": "ipython",
    "version": 3
   },
   "file_extension": ".py",
   "mimetype": "text/x-python",
   "name": "python",
   "nbconvert_exporter": "python",
   "pygments_lexer": "ipython3",
   "version": "3.7.7"
  }
 },
 "nbformat": 4,
 "nbformat_minor": 2
}
